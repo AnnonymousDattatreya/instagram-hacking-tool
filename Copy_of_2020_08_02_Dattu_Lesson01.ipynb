{
  "nbformat": 4,
  "nbformat_minor": 0,
  "metadata": {
    "colab": {
      "name": "Copy of 2020-08-02_Dattu_Lesson01",
      "provenance": [],
      "collapsed_sections": [],
      "include_colab_link": true
    },
    "kernelspec": {
      "name": "python3",
      "display_name": "Python 3"
    }
  },
  "cells": [
    {
      "cell_type": "markdown",
      "metadata": {
        "id": "view-in-github",
        "colab_type": "text"
      },
      "source": [
        "<a href=\"https://colab.research.google.com/github/AnnonymousDattatreya/instagram-hacking-tool/blob/master/Copy_of_2020_08_02_Dattu_Lesson01.ipynb\" target=\"_parent\"><img src=\"https://colab.research.google.com/assets/colab-badge.svg\" alt=\"Open In Colab\"/></a>"
      ]
    },
    {
      "cell_type": "markdown",
      "metadata": {
        "id": "W0l8coGdmyaI",
        "colab_type": "text"
      },
      "source": [
        "# Lesson 0: COVID-19 Outbreak Analysis"
      ]
    },
    {
      "cell_type": "code",
      "metadata": {
        "id": "T4Jrknr1u4xU",
        "colab_type": "code",
        "colab": {
          "base_uri": "https://localhost:8080/",
          "height": 34
        },
        "outputId": "87022f29-dc0f-4770-f1d8-289b81863f1f"
      },
      "source": [
        "10+2\n"
      ],
      "execution_count": null,
      "outputs": [
        {
          "output_type": "execute_result",
          "data": {
            "text/plain": [
              "12"
            ]
          },
          "metadata": {
            "tags": []
          },
          "execution_count": 1
        }
      ]
    },
    {
      "cell_type": "markdown",
      "metadata": {
        "id": "wf5ibdMS8C8W",
        "colab_type": "text"
      },
      "source": [
        "### Teacher-Student Activities\n",
        "\n",
        "We all know that coronavrius is spreading on a daily basis in India. So, let's try to visualise how fast it is spreading.\n",
        "\n",
        "First, let's look at the dashboard created by Johns Hopkins University. You can look at the following live dashboard to see the real-time trend.\n",
        "\n",
        "[COVID-19 Live Dashboard](https://www.arcgis.com/apps/opsdashboard/index.html#/bda7594740fd40299423467b48e9ecf6)\n",
        "\n",
        "Now, let's create a similar map for India using Python to visualise the most affected states in India due to coronavirus. After the class, you can share it with your parents, relatives and friends by sending them the link to the map."
      ]
    },
    {
      "cell_type": "markdown",
      "metadata": {
        "id": "LH4QfpXOmwyk",
        "colab_type": "text"
      },
      "source": [
        "---"
      ]
    },
    {
      "cell_type": "markdown",
      "metadata": {
        "id": "ZdRaRNsDu37s",
        "colab_type": "text"
      },
      "source": [
        "**At this point, the student should share/present their screen with the teacher.**"
      ]
    },
    {
      "cell_type": "markdown",
      "metadata": {
        "id": "4vbg610OmKQj",
        "colab_type": "text"
      },
      "source": [
        "---"
      ]
    },
    {
      "cell_type": "markdown",
      "metadata": {
        "id": "L_Opp5fyeA6V",
        "colab_type": "text"
      },
      "source": [
        "#### Activity 1: Run Source Code\n",
        "\n",
        "This is the source code for the map to be created. You will learn to write it after signing up for the applied tech course. Right now, you just have to execute the code."
      ]
    },
    {
      "cell_type": "code",
      "metadata": {
        "id": "fbsMjhp2vZlE",
        "colab_type": "code",
        "colab": {
          "base_uri": "https://localhost:8080/",
          "height": 498
        },
        "outputId": "30a5fa4a-7005-4707-c231-3c8c169c8698"
      },
      "source": [
        "# Student Action: Run the code below.\n",
        "# Download data\n",
        "!git clone https://github.com/CSSEGISandData/COVID-19.git\n",
        "\n",
        "# Install 'geocoder'\n",
        "!pip install geocoder\n",
        "\n",
        "# Importing modules\n",
        "import pandas as pd  \n",
        "import matplotlib.pyplot as plt \n",
        "import seaborn as sns\n",
        "import datetime \n",
        "import geocoder\n",
        "import folium\n",
        "from folium import plugins \n",
        "\n",
        "# DataFrame for the world\n",
        "conf_csv = '/content/COVID-19/csse_covid_19_data/csse_covid_19_time_series/time_series_covid19_confirmed_global.csv'\n",
        "conf_df = pd.read_csv(conf_csv)\n",
        "grouped_conf_df = conf_df.groupby(by = ['Country/Region'], as_index = False).sum()\n",
        "\n",
        "# DataFrame for India\n",
        "india_df = pd.read_csv(\"https://api.covid19india.org/csv/latest/state_wise.csv\")\n",
        "india_df = india_df.iloc[1:, :]\n",
        "state_latitudes = []\n",
        "state_longitudes = []\n",
        "for i in india_df.index:\n",
        "    state = india_df['State'][i]\n",
        "    state_lat = geocoder.osm(state).lat\n",
        "    state_lng = geocoder.osm(state).lng\n",
        "    state_latitudes.append(state_lat)\n",
        "    state_longitudes.append(state_lng)\n",
        "\n",
        "state_latitudes = pd.Series(data = state_latitudes, index = india_df.index)\n",
        "state_longitudes = pd.Series(data = state_longitudes, index = india_df.index)\n",
        "india_df['Latitude'] = state_latitudes\n",
        "india_df['Longitude'] = state_longitudes\n",
        "\n",
        "# DataFrame for the US\n",
        "us_conf_csv = '/content/COVID-19/csse_covid_19_data/csse_covid_19_time_series/time_series_covid19_confirmed_US.csv'\n",
        "us_conf_df = pd.read_csv(us_conf_csv)\n",
        "us_conf_df = us_conf_df.dropna()\n",
        "grouped_us_conf_df = us_conf_df.groupby(by = ['Combined_Key'], as_index = False).sum()\n",
        "\n",
        "# Function to get total confirmed cases in a country\n",
        "def get_total_confirmed_cases_for_country(country_name):\n",
        "    total_cases_country = conf_df[conf_df['Country/Region'] == country_name].iloc[:, 4:].apply(sum, axis = 0)\n",
        "    total_cases_country.index = pd.to_datetime(total_cases_country.index)\n",
        "    return total_cases_country\n",
        "\n",
        "# Function to get total confirmed cases in the world\n",
        "def get_total_confirmed_global_cases():\n",
        "    global_cases = conf_df.iloc[:, 4:].apply(sum, axis=0)\n",
        "    global_cases.index = pd.to_datetime(global_cases.index)\n",
        "    return global_cases\n",
        "\n",
        "# Function to create a line plot\n",
        "def line_plot(your_name, plot_background, fig_width, fig_height, country_name, colour, linewidth, markertype):\n",
        "    dt_series = None\n",
        "    if country_name != 'global':\n",
        "        dt_series = get_total_confirmed_cases_for_country(country_name)\n",
        "    else:\n",
        "        dt_series = get_total_confirmed_global_cases()\n",
        "    plt.style.use(plot_background)\n",
        "    plt.figure(figsize = (fig_width, fig_height))\n",
        "    plt.title(f'{country_name.upper()}: Total Coronavirus Cases Reported\\nCreated by {your_name.upper()}\\nPowered by WhiteHat Jr', fontsize = 16)\n",
        "    plt.plot(dt_series.index, dt_series, c = colour, lw = linewidth, marker = markertype, markersize = 7)\n",
        "    plt.xticks(rotation = 45)\n",
        "    plt.ylabel(\"Total Cases\")\n",
        "    plt.grid(linestyle='--', c='grey')\n",
        "    plt.show()\n",
        "\n",
        "# Add minimap\n",
        "def add_minimap(map_name):\n",
        "    # Plugin for mini map\n",
        "    minimap = plugins.MiniMap(toggle_display = True)\n",
        "    map_name.add_child(minimap) # Add minimap\n",
        "    plugins.ScrollZoomToggler().add_to(map_name) # Add scroll zoom toggler to map\n",
        "    plugins.Fullscreen(position='topright').add_to(map_name) # Add full screen button to map\n",
        "\n",
        "# Add title to map\n",
        "def add_title(map_name, country, your_name):\n",
        "    title_html = '''\n",
        "        <h2 align=\"center\" style=\"font-size:20px\"><b>Coronavirus Total Confirmed Cases in {}</b></h2>\n",
        "        <h4 align=\"center\" style=\"font-size:16px\"><i>Created by</i> {}</h4>\n",
        "        <h4 align=\"center\" style=\"font-size:16px\"><i>Powered by</i>\n",
        "            <a href=\"https://www.whitehatjr.com/\">WhiteHat Jr</a>\n",
        "        </h4>\n",
        "             '''.format(country, your_name.upper())   \n",
        "    return map_name.get_root().html.add_child(folium.Element(title_html))\n",
        "\n",
        "# Function to create folium maps using for India, US and the world\n",
        "def folium_map_with_circles(your_name, country, map_width, map_height, left_margin, top_margin, map_tile, zoom, circle_color, minimap):\n",
        "    last_col = conf_df.columns[-1]\n",
        "    if country == 'India':\n",
        "        india_map = folium.Map(location = [22.3511148, 78.6677428], \n",
        "                               width = map_width, height = map_height,\n",
        "                               left = f\"{left_margin}%\", top = f\"{top_margin}%\",\n",
        "                               tiles = map_tile, zoom_start = zoom)\n",
        "        \n",
        "        if minimap == True:\n",
        "            add_minimap(india_map)\n",
        "    \n",
        "        add_title(india_map, country, your_name)    \n",
        "        for i in india_df.index:\n",
        "            folium.Circle(radius = float(india_df.loc[i, 'Confirmed']) / 1.25,\n",
        "                          location = [india_df.loc[i, 'Latitude'], india_df.loc[i, 'Longitude']],\n",
        "                          popup = \"{}\\n {}\\n on {}\".format(india_df.loc[i, 'State'], \n",
        "                                                          india_df.loc[i, 'Confirmed'], \n",
        "                                                          india_df.loc[i, 'Last_Updated_Time']),\n",
        "                          \n",
        "                          color = circle_color,\n",
        "                          fill = True).add_to(india_map)\n",
        "        return india_map\n",
        "\n",
        "    elif country == 'US':\n",
        "        us_map = folium.Map(location = [39.381266, -97.922211], \n",
        "                            width = map_width, height = map_height, \n",
        "                            left = f\"{left_margin}%\", top = f\"{top_margin}%\",\n",
        "                            tiles = map_tile, zoom_start = zoom)\n",
        "        if minimap == True:\n",
        "            add_minimap(us_map)\n",
        "        \n",
        "        add_title(us_map, country, your_name)\n",
        "        for i in grouped_us_conf_df.index:\n",
        "            folium.Circle(location = [grouped_us_conf_df.loc[i, 'Lat'], grouped_us_conf_df.loc[i, 'Long_']], \n",
        "                          radius = int(grouped_us_conf_df.loc[i, last_col]), \n",
        "                          popup = \"{}\\n {}\\n on {}\".format(grouped_us_conf_df.loc[i, 'Combined_Key'],\n",
        "                                                          grouped_us_conf_df.loc[i, last_col],\n",
        "                                                          last_col),\n",
        "                          color = circle_color,\n",
        "                          fill = True).add_to(us_map)\n",
        "        return us_map\n",
        "    \n",
        "    elif country == 'World':\n",
        "        world_map = folium.Map(location = [0, 0], \n",
        "                            width = map_width, height = map_height, \n",
        "                            left = f\"{left_margin}%\", top = f\"{top_margin}%\",\n",
        "                            tiles = map_tile, zoom_start = zoom)\n",
        "        if minimap == True:\n",
        "            add_minimap(world_map)\n",
        "        \n",
        "        add_title(world_map, country, your_name)\n",
        "        for i in grouped_conf_df.index:\n",
        "            folium.Circle(location = [grouped_conf_df.loc[i, 'Lat'], grouped_conf_df.loc[i, 'Long']], \n",
        "                          radius = int(grouped_conf_df.loc[i, last_col]) / 2, \n",
        "                          popup = \"{}\\n {}\\n on {}\".format(grouped_conf_df.loc[i, 'Country/Region'],\n",
        "                                                          grouped_conf_df.loc[i, last_col], \n",
        "                                                          last_col),\n",
        "                          color = circle_color, \n",
        "                          fill = True).add_to(world_map)\n",
        "        return world_map\n",
        "    else:\n",
        "        print(\"\\nWrong input! Enter either India, US or World.\\n\")\n",
        "\n",
        "# Total confirmed cases in the descending order.\n",
        "grouped_conf_df = conf_df.groupby(by='Country/Region', as_index=False).sum()\n",
        "desc_grp_conf_df = grouped_conf_df.sort_values(by=conf_df.columns[-1], ascending=False)\n",
        "\n",
        "# Function to create a bar plot displaying the top 10 countries having the most number of coronavirus confirmed cases.\n",
        "def bar_plot(your_name, num_countries, width, height):\n",
        "    last_col = conf_df.columns[-1]\n",
        "    latest_date = datetime.datetime.strptime(last_col, '%m/%d/%y').strftime('%B %d, %Y') # Modify the latest date in the 'Month DD, YYYY' format.\n",
        "    plt.figure(figsize = (width, height))\n",
        "    plt.title(f'Top {num_countries} Countries with Highest COVID-19 Confirmed Cases\\nCreated by {your_name.upper()}\\nPowered by WhiteHat Jr', \n",
        "              fontsize = 16)\n",
        "    sns.barplot(desc_grp_conf_df[last_col].head(num_countries), desc_grp_conf_df['Country/Region'].head(num_countries), orient = 'h')\n",
        "    plt.xlabel(f'Total Confirmed Cases (in millions) as of {latest_date}')\n",
        "    plt.show()\n",
        "\n",
        "# Non-cumulative Confirmed Cases.\n",
        "non_cum_conf_df = desc_grp_conf_df.iloc[:, :4]\n",
        "for i in range(len(desc_grp_conf_df.columns[3:]) - 1):\n",
        "    series = desc_grp_conf_df[desc_grp_conf_df.columns[3 + (i + 1) ]] - desc_grp_conf_df[desc_grp_conf_df.columns[3 + i]]\n",
        "    non_cum_conf_df[desc_grp_conf_df.columns[3 + (i + 1)]] = series\n",
        "\n",
        "# Function to get the total non-cumulative confirmed cases in a country.\n",
        "def get_total_daily_confirmed_cases_for_country(country_name):\n",
        "    total_daily_cases = non_cum_conf_df[non_cum_conf_df['Country/Region'] == country_name].iloc[:, 4:].apply(sum, axis = 0)\n",
        "    total_daily_cases.index = pd.to_datetime(total_daily_cases.index)\n",
        "    return total_daily_cases\n",
        "\n",
        "# Line plot for the daily (non-cumulative) confirmed cases in various countries.\n",
        "def daily_cases_line_plot(your_name, num_countries, width, height):\n",
        "    plt.figure(figsize=(width, height))\n",
        "    plt.title(f'Non-Cumulative COVID-19 Confirmed Cases\\nCreated by {your_name.upper()}\\nPowered by WhiteHat Jr', fontsize = 16)\n",
        "    for region in non_cum_conf_df.iloc[:num_countries, :]['Country/Region']:\n",
        "        total_conf_cases = get_total_daily_confirmed_cases_for_country(region)\n",
        "        plt.plot(total_conf_cases.index[53:], total_conf_cases[53:], lw=2.5, label=region)\n",
        "    plt.xticks(rotation=45)\n",
        "    plt.legend()\n",
        "    plt.grid('major', linestyle='--', c='grey')\n",
        "    plt.show()"
      ],
      "execution_count": null,
      "outputs": [
        {
          "output_type": "stream",
          "text": [
            "Cloning into 'COVID-19'...\n",
            "remote: Enumerating objects: 52, done.\u001b[K\n",
            "remote: Counting objects: 100% (52/52), done.\u001b[K\n",
            "remote: Compressing objects: 100% (35/35), done.\u001b[K\n",
            "remote: Total 43504 (delta 22), reused 29 (delta 14), pack-reused 43452\u001b[K\n",
            "Receiving objects: 100% (43504/43504), 329.45 MiB | 30.47 MiB/s, done.\n",
            "Resolving deltas: 100% (26886/26886), done.\n",
            "Checking out files: 100% (534/534), done.\n",
            "Collecting geocoder\n",
            "\u001b[?25l  Downloading https://files.pythonhosted.org/packages/4f/6b/13166c909ad2f2d76b929a4227c952630ebaf0d729f6317eb09cbceccbab/geocoder-1.38.1-py2.py3-none-any.whl (98kB)\n",
            "\u001b[K     |████████████████████████████████| 102kB 3.3MB/s \n",
            "\u001b[?25hRequirement already satisfied: click in /usr/local/lib/python3.6/dist-packages (from geocoder) (7.1.2)\n",
            "Requirement already satisfied: six in /usr/local/lib/python3.6/dist-packages (from geocoder) (1.15.0)\n",
            "Requirement already satisfied: future in /usr/local/lib/python3.6/dist-packages (from geocoder) (0.16.0)\n",
            "Requirement already satisfied: requests in /usr/local/lib/python3.6/dist-packages (from geocoder) (2.23.0)\n",
            "Collecting ratelim\n",
            "  Downloading https://files.pythonhosted.org/packages/f2/98/7e6d147fd16a10a5f821db6e25f192265d6ecca3d82957a4fdd592cad49c/ratelim-0.1.6-py2.py3-none-any.whl\n",
            "Requirement already satisfied: certifi>=2017.4.17 in /usr/local/lib/python3.6/dist-packages (from requests->geocoder) (2020.6.20)\n",
            "Requirement already satisfied: urllib3!=1.25.0,!=1.25.1,<1.26,>=1.21.1 in /usr/local/lib/python3.6/dist-packages (from requests->geocoder) (1.24.3)\n",
            "Requirement already satisfied: chardet<4,>=3.0.2 in /usr/local/lib/python3.6/dist-packages (from requests->geocoder) (3.0.4)\n",
            "Requirement already satisfied: idna<3,>=2.5 in /usr/local/lib/python3.6/dist-packages (from requests->geocoder) (2.10)\n",
            "Requirement already satisfied: decorator in /usr/local/lib/python3.6/dist-packages (from ratelim->geocoder) (4.4.2)\n",
            "Installing collected packages: ratelim, geocoder\n",
            "Successfully installed geocoder-1.38.1 ratelim-0.1.6\n"
          ],
          "name": "stdout"
        },
        {
          "output_type": "stream",
          "text": [
            "/usr/local/lib/python3.6/dist-packages/statsmodels/tools/_testing.py:19: FutureWarning: pandas.util.testing is deprecated. Use the functions in the public API at pandas.testing instead.\n",
            "  import pandas.util.testing as tm\n"
          ],
          "name": "stderr"
        }
      ]
    },
    {
      "cell_type": "markdown",
      "metadata": {
        "id": "gg0S_PoPIWNa",
        "colab_type": "text"
      },
      "source": [
        "---"
      ]
    },
    {
      "cell_type": "markdown",
      "metadata": {
        "id": "pbKvEaCufa-p",
        "colab_type": "text"
      },
      "source": [
        "#### Activity 2: Line Plot^\n",
        "\n",
        "Let's create a line plot to visualise the total number of confirmed cases in India till yesterday. For the line plot, the dataset that we have on coronavirus is maintained at Johns Hopkins University which gets according to the US time. Hence, we have data updated till yesterday. \n",
        "\n",
        "To view this dataset, write `conf_df[conf_df['Country/Region'] == 'India']` in the code cell below."
      ]
    },
    {
      "cell_type": "code",
      "metadata": {
        "id": "qpXGILXhk64L",
        "colab_type": "code",
        "colab": {
          "base_uri": "https://localhost:8080/",
          "height": 126
        },
        "outputId": "e0f91a0d-ffe4-4980-80cb-f94e00e490d6"
      },
      "source": [
        "# Student Action: Write conf_df[conf_df['Country/Region'] == 'India'] to view the dataset for India that will be used to create a line plot.\n",
        "conf_df[conf_df[\"Country/Region\"]==\"India\"]"
      ],
      "execution_count": null,
      "outputs": [
        {
          "output_type": "execute_result",
          "data": {
            "text/html": [
              "<div>\n",
              "<style scoped>\n",
              "    .dataframe tbody tr th:only-of-type {\n",
              "        vertical-align: middle;\n",
              "    }\n",
              "\n",
              "    .dataframe tbody tr th {\n",
              "        vertical-align: top;\n",
              "    }\n",
              "\n",
              "    .dataframe thead th {\n",
              "        text-align: right;\n",
              "    }\n",
              "</style>\n",
              "<table border=\"1\" class=\"dataframe\">\n",
              "  <thead>\n",
              "    <tr style=\"text-align: right;\">\n",
              "      <th></th>\n",
              "      <th>Province/State</th>\n",
              "      <th>Country/Region</th>\n",
              "      <th>Lat</th>\n",
              "      <th>Long</th>\n",
              "      <th>1/22/20</th>\n",
              "      <th>1/23/20</th>\n",
              "      <th>1/24/20</th>\n",
              "      <th>1/25/20</th>\n",
              "      <th>1/26/20</th>\n",
              "      <th>1/27/20</th>\n",
              "      <th>1/28/20</th>\n",
              "      <th>1/29/20</th>\n",
              "      <th>1/30/20</th>\n",
              "      <th>1/31/20</th>\n",
              "      <th>2/1/20</th>\n",
              "      <th>2/2/20</th>\n",
              "      <th>2/3/20</th>\n",
              "      <th>2/4/20</th>\n",
              "      <th>2/5/20</th>\n",
              "      <th>2/6/20</th>\n",
              "      <th>2/7/20</th>\n",
              "      <th>2/8/20</th>\n",
              "      <th>2/9/20</th>\n",
              "      <th>2/10/20</th>\n",
              "      <th>2/11/20</th>\n",
              "      <th>2/12/20</th>\n",
              "      <th>2/13/20</th>\n",
              "      <th>2/14/20</th>\n",
              "      <th>2/15/20</th>\n",
              "      <th>2/16/20</th>\n",
              "      <th>2/17/20</th>\n",
              "      <th>2/18/20</th>\n",
              "      <th>2/19/20</th>\n",
              "      <th>2/20/20</th>\n",
              "      <th>2/21/20</th>\n",
              "      <th>2/22/20</th>\n",
              "      <th>2/23/20</th>\n",
              "      <th>2/24/20</th>\n",
              "      <th>2/25/20</th>\n",
              "      <th>2/26/20</th>\n",
              "      <th>...</th>\n",
              "      <th>6/23/20</th>\n",
              "      <th>6/24/20</th>\n",
              "      <th>6/25/20</th>\n",
              "      <th>6/26/20</th>\n",
              "      <th>6/27/20</th>\n",
              "      <th>6/28/20</th>\n",
              "      <th>6/29/20</th>\n",
              "      <th>6/30/20</th>\n",
              "      <th>7/1/20</th>\n",
              "      <th>7/2/20</th>\n",
              "      <th>7/3/20</th>\n",
              "      <th>7/4/20</th>\n",
              "      <th>7/5/20</th>\n",
              "      <th>7/6/20</th>\n",
              "      <th>7/7/20</th>\n",
              "      <th>7/8/20</th>\n",
              "      <th>7/9/20</th>\n",
              "      <th>7/10/20</th>\n",
              "      <th>7/11/20</th>\n",
              "      <th>7/12/20</th>\n",
              "      <th>7/13/20</th>\n",
              "      <th>7/14/20</th>\n",
              "      <th>7/15/20</th>\n",
              "      <th>7/16/20</th>\n",
              "      <th>7/17/20</th>\n",
              "      <th>7/18/20</th>\n",
              "      <th>7/19/20</th>\n",
              "      <th>7/20/20</th>\n",
              "      <th>7/21/20</th>\n",
              "      <th>7/22/20</th>\n",
              "      <th>7/23/20</th>\n",
              "      <th>7/24/20</th>\n",
              "      <th>7/25/20</th>\n",
              "      <th>7/26/20</th>\n",
              "      <th>7/27/20</th>\n",
              "      <th>7/28/20</th>\n",
              "      <th>7/29/20</th>\n",
              "      <th>7/30/20</th>\n",
              "      <th>7/31/20</th>\n",
              "      <th>8/1/20</th>\n",
              "    </tr>\n",
              "  </thead>\n",
              "  <tbody>\n",
              "    <tr>\n",
              "      <th>131</th>\n",
              "      <td>NaN</td>\n",
              "      <td>India</td>\n",
              "      <td>20.593684</td>\n",
              "      <td>78.96288</td>\n",
              "      <td>0</td>\n",
              "      <td>0</td>\n",
              "      <td>0</td>\n",
              "      <td>0</td>\n",
              "      <td>0</td>\n",
              "      <td>0</td>\n",
              "      <td>0</td>\n",
              "      <td>0</td>\n",
              "      <td>1</td>\n",
              "      <td>1</td>\n",
              "      <td>1</td>\n",
              "      <td>2</td>\n",
              "      <td>3</td>\n",
              "      <td>3</td>\n",
              "      <td>3</td>\n",
              "      <td>3</td>\n",
              "      <td>3</td>\n",
              "      <td>3</td>\n",
              "      <td>3</td>\n",
              "      <td>3</td>\n",
              "      <td>3</td>\n",
              "      <td>3</td>\n",
              "      <td>3</td>\n",
              "      <td>3</td>\n",
              "      <td>3</td>\n",
              "      <td>3</td>\n",
              "      <td>3</td>\n",
              "      <td>3</td>\n",
              "      <td>3</td>\n",
              "      <td>3</td>\n",
              "      <td>3</td>\n",
              "      <td>3</td>\n",
              "      <td>3</td>\n",
              "      <td>3</td>\n",
              "      <td>3</td>\n",
              "      <td>3</td>\n",
              "      <td>...</td>\n",
              "      <td>456183</td>\n",
              "      <td>473105</td>\n",
              "      <td>490401</td>\n",
              "      <td>508953</td>\n",
              "      <td>528859</td>\n",
              "      <td>548318</td>\n",
              "      <td>566840</td>\n",
              "      <td>585481</td>\n",
              "      <td>604641</td>\n",
              "      <td>625544</td>\n",
              "      <td>648315</td>\n",
              "      <td>673165</td>\n",
              "      <td>697413</td>\n",
              "      <td>719664</td>\n",
              "      <td>742417</td>\n",
              "      <td>767296</td>\n",
              "      <td>793802</td>\n",
              "      <td>820916</td>\n",
              "      <td>849522</td>\n",
              "      <td>878254</td>\n",
              "      <td>906752</td>\n",
              "      <td>936181</td>\n",
              "      <td>968857</td>\n",
              "      <td>1003832</td>\n",
              "      <td>1039084</td>\n",
              "      <td>1077781</td>\n",
              "      <td>1118206</td>\n",
              "      <td>1155338</td>\n",
              "      <td>1193078</td>\n",
              "      <td>1238798</td>\n",
              "      <td>1288108</td>\n",
              "      <td>1337024</td>\n",
              "      <td>1385635</td>\n",
              "      <td>1435616</td>\n",
              "      <td>1480073</td>\n",
              "      <td>1531669</td>\n",
              "      <td>1581963</td>\n",
              "      <td>1634746</td>\n",
              "      <td>1695988</td>\n",
              "      <td>1750723</td>\n",
              "    </tr>\n",
              "  </tbody>\n",
              "</table>\n",
              "<p>1 rows × 197 columns</p>\n",
              "</div>"
            ],
            "text/plain": [
              "    Province/State Country/Region        Lat  ...  7/30/20  7/31/20   8/1/20\n",
              "131            NaN          India  20.593684  ...  1634746  1695988  1750723\n",
              "\n",
              "[1 rows x 197 columns]"
            ]
          },
          "metadata": {
            "tags": []
          },
          "execution_count": 3
        }
      ]
    },
    {
      "cell_type": "markdown",
      "metadata": {
        "id": "uObwYzKCHHiK",
        "colab_type": "text"
      },
      "source": [
        "So, in this dataset, we have data for the total confirmed cases in India starting from January 22, 2020. The date given here is in the `MM/DD/YY` format where \n",
        "\n",
        "- `MM` stands for month\n",
        "\n",
        "- `DD` stands for day\n",
        "\n",
        "- `YY` stands for year\n",
        "\n",
        "Now, let's create a line plot. To create a line plot, you need to use the `line_plot()` function which takes the following inputs:\n",
        "\n",
        "- Name of the person who is creating the line plot which should be a text value enclosed within single-quotes (`''`) or double-quotes (`\"\"`).\n",
        "\n",
        "- The background style of the line plot which should be a text value enclosed within single-quotes (`''`) or double-quotes (`\"\"`).. Here is the list of most commonly used background styles:\n",
        "\n",
        "  1. `'dark_background'` (most preferred)\n",
        "\n",
        "  2. `'ggplot'`\n",
        "\n",
        "  3. `'seaborn'`\n",
        "\n",
        "  4. `'fivethirtyeight'`\n",
        "\n",
        "  and many more.\n",
        "\n",
        "- Width of the line plot (numeric value).\n",
        "\n",
        "- Height of the line plot (numeric value).\n",
        "\n",
        "- Name of the country which should be a text value enclosed within single-quotes (`''`) or double-quotes (`\"\"`).\n",
        "\n",
        "- Colour of the lines which should be a text value enclosed within single-quotes (`''`) or double-quotes (`\"\"`). Here's the list of most commonly used colours:\n",
        "\n",
        "  1. `'red'`\n",
        "  \n",
        "  2. `'cyan'` \n",
        "  \n",
        "  3. `'magenta'`\n",
        "\n",
        "  4. `'yellow'`\n",
        "\n",
        "  5. `'green'`\n",
        "\n",
        "- The width of the line (numeric value)\n",
        "\n",
        "- The marker style on the line plot which should be a text value enclosed within single-quotes (`''`) or double-quotes (`\"\"`). Here is the list of the most commonly used marker styles:\n",
        "\n",
        "  1. `'o'` for a circular marker\n",
        "\n",
        "  2. `'*'` for a starred marker\n",
        "\n",
        "  3. `'^'` for a upper triangular marker\n"
      ]
    },
    {
      "cell_type": "code",
      "metadata": {
        "id": "G1HArsXcHNXK",
        "colab_type": "code",
        "colab": {
          "base_uri": "https://localhost:8080/",
          "height": 558
        },
        "outputId": "1aed9fe2-2639-4b83-f09d-276766d5fac9"
      },
      "source": [
        "# Student Action: Create a line plot for the total confirmed cases in India using the 'line_plot()' function.\n",
        "line_plot('Dattu','seaborn',20,8,'India','magenta',0,'^')"
      ],
      "execution_count": null,
      "outputs": [
        {
          "output_type": "display_data",
          "data": {
            "image/png": "[encoded data removed]",
            "text/plain": [
              "<Figure size 1440x576 with 1 Axes>"
            ]
          },
          "metadata": {
            "tags": []
          }
        }
      ]
    },
    {
      "cell_type": "markdown",
      "metadata": {
        "id": "2uQJGNR1lJBz",
        "colab_type": "text"
      },
      "source": [
        "**Note:** The `line_plot()` function is NOT a standard Python function. It is a user-defined function created at WhiteHat Jr using Python to simplify the line plot creation process. You will learn to create your own user-defined function in the subsequent classes in this course."
      ]
    },
    {
      "cell_type": "markdown",
      "metadata": {
        "id": "Rt79o-Ork9BO",
        "colab_type": "text"
      },
      "source": [
        "---"
      ]
    },
    {
      "cell_type": "markdown",
      "metadata": {
        "id": "bb1A1XTZDyxv",
        "colab_type": "text"
      },
      "source": [
        "#### Activity 3: Map^^\n",
        "\n",
        "Let's create a map for India. For this, we are going to use a dataset showing statewise data for India. To view the first five rows for the total confirmed cases in India, call the `head()` function on the `india_df` variable which stores the data."
      ]
    },
    {
      "cell_type": "code",
      "metadata": {
        "id": "zcbuqGnITevO",
        "colab_type": "code",
        "colab": {
          "base_uri": "https://localhost:8080/",
          "height": 557
        },
        "outputId": "4045331d-8c4f-426d-b761-ed3a3a040370"
      },
      "source": [
        "# Student Action: List the first five rows of the dataset containing the total number of confirmed cases in India. \n",
        "india_df.head(7)"
      ],
      "execution_count": null,
      "outputs": [
        {
          "output_type": "execute_result",
          "data": {
            "text/html": [
              "<div>\n",
              "<style scoped>\n",
              "    .dataframe tbody tr th:only-of-type {\n",
              "        vertical-align: middle;\n",
              "    }\n",
              "\n",
              "    .dataframe tbody tr th {\n",
              "        vertical-align: top;\n",
              "    }\n",
              "\n",
              "    .dataframe thead th {\n",
              "        text-align: right;\n",
              "    }\n",
              "</style>\n",
              "<table border=\"1\" class=\"dataframe\">\n",
              "  <thead>\n",
              "    <tr style=\"text-align: right;\">\n",
              "      <th></th>\n",
              "      <th>State</th>\n",
              "      <th>Confirmed</th>\n",
              "      <th>Recovered</th>\n",
              "      <th>Deaths</th>\n",
              "      <th>Active</th>\n",
              "      <th>Last_Updated_Time</th>\n",
              "      <th>Migrated_Other</th>\n",
              "      <th>State_code</th>\n",
              "      <th>Delta_Confirmed</th>\n",
              "      <th>Delta_Recovered</th>\n",
              "      <th>Delta_Deaths</th>\n",
              "      <th>State_Notes</th>\n",
              "      <th>Latitude</th>\n",
              "      <th>Longitude</th>\n",
              "    </tr>\n",
              "  </thead>\n",
              "  <tbody>\n",
              "    <tr>\n",
              "      <th>1</th>\n",
              "      <td>Maharashtra</td>\n",
              "      <td>431719</td>\n",
              "      <td>266883</td>\n",
              "      <td>15316</td>\n",
              "      <td>149214</td>\n",
              "      <td>01/08/2020 21:07:36</td>\n",
              "      <td>306</td>\n",
              "      <td>MH</td>\n",
              "      <td>0</td>\n",
              "      <td>0</td>\n",
              "      <td>0</td>\n",
              "      <td>306 cases are marked as non-covid deaths in MH...</td>\n",
              "      <td>19.531932</td>\n",
              "      <td>76.055457</td>\n",
              "    </tr>\n",
              "    <tr>\n",
              "      <th>2</th>\n",
              "      <td>Tamil Nadu</td>\n",
              "      <td>251738</td>\n",
              "      <td>190966</td>\n",
              "      <td>4034</td>\n",
              "      <td>56738</td>\n",
              "      <td>01/08/2020 18:17:38</td>\n",
              "      <td>0</td>\n",
              "      <td>TN</td>\n",
              "      <td>0</td>\n",
              "      <td>0</td>\n",
              "      <td>0</td>\n",
              "      <td>[July 22]: 444 backdated deceased entries adde...</td>\n",
              "      <td>10.909433</td>\n",
              "      <td>78.366535</td>\n",
              "    </tr>\n",
              "    <tr>\n",
              "      <th>3</th>\n",
              "      <td>Delhi</td>\n",
              "      <td>136716</td>\n",
              "      <td>122131</td>\n",
              "      <td>3989</td>\n",
              "      <td>10596</td>\n",
              "      <td>01/08/2020 16:27:34</td>\n",
              "      <td>0</td>\n",
              "      <td>DL</td>\n",
              "      <td>0</td>\n",
              "      <td>0</td>\n",
              "      <td>0</td>\n",
              "      <td>[July 14]: Value for the total tests conducted...</td>\n",
              "      <td>28.651718</td>\n",
              "      <td>77.221939</td>\n",
              "    </tr>\n",
              "    <tr>\n",
              "      <th>4</th>\n",
              "      <td>Karnataka</td>\n",
              "      <td>129287</td>\n",
              "      <td>53648</td>\n",
              "      <td>2412</td>\n",
              "      <td>73218</td>\n",
              "      <td>01/08/2020 20:42:37</td>\n",
              "      <td>9</td>\n",
              "      <td>KA</td>\n",
              "      <td>0</td>\n",
              "      <td>0</td>\n",
              "      <td>0</td>\n",
              "      <td>9 cases are classified as non-covid related de...</td>\n",
              "      <td>14.520390</td>\n",
              "      <td>75.722352</td>\n",
              "    </tr>\n",
              "    <tr>\n",
              "      <th>5</th>\n",
              "      <td>Andhra Pradesh</td>\n",
              "      <td>150209</td>\n",
              "      <td>76614</td>\n",
              "      <td>1407</td>\n",
              "      <td>72188</td>\n",
              "      <td>01/08/2020 18:17:40</td>\n",
              "      <td>0</td>\n",
              "      <td>AP</td>\n",
              "      <td>0</td>\n",
              "      <td>0</td>\n",
              "      <td>0</td>\n",
              "      <td>Total includes patients from other states and ...</td>\n",
              "      <td>15.924091</td>\n",
              "      <td>80.186381</td>\n",
              "    </tr>\n",
              "    <tr>\n",
              "      <th>6</th>\n",
              "      <td>Uttar Pradesh</td>\n",
              "      <td>89048</td>\n",
              "      <td>51334</td>\n",
              "      <td>1677</td>\n",
              "      <td>36037</td>\n",
              "      <td>01/08/2020 17:18:38</td>\n",
              "      <td>0</td>\n",
              "      <td>UP</td>\n",
              "      <td>0</td>\n",
              "      <td>0</td>\n",
              "      <td>0</td>\n",
              "      <td>NaN</td>\n",
              "      <td>27.130334</td>\n",
              "      <td>80.859666</td>\n",
              "    </tr>\n",
              "    <tr>\n",
              "      <th>7</th>\n",
              "      <td>Gujarat</td>\n",
              "      <td>62574</td>\n",
              "      <td>45884</td>\n",
              "      <td>2460</td>\n",
              "      <td>14230</td>\n",
              "      <td>01/08/2020 20:42:39</td>\n",
              "      <td>0</td>\n",
              "      <td>GJ</td>\n",
              "      <td>0</td>\n",
              "      <td>0</td>\n",
              "      <td>0</td>\n",
              "      <td>NaN</td>\n",
              "      <td>22.385001</td>\n",
              "      <td>71.745263</td>\n",
              "    </tr>\n",
              "  </tbody>\n",
              "</table>\n",
              "</div>"
            ],
            "text/plain": [
              "            State  Confirmed  ...   Latitude  Longitude\n",
              "1     Maharashtra     431719  ...  19.531932  76.055457\n",
              "2      Tamil Nadu     251738  ...  10.909433  78.366535\n",
              "3           Delhi     136716  ...  28.651718  77.221939\n",
              "4       Karnataka     129287  ...  14.520390  75.722352\n",
              "5  Andhra Pradesh     150209  ...  15.924091  80.186381\n",
              "6   Uttar Pradesh      89048  ...  27.130334  80.859666\n",
              "7         Gujarat      62574  ...  22.385001  71.745263\n",
              "\n",
              "[7 rows x 14 columns]"
            ]
          },
          "metadata": {
            "tags": []
          },
          "execution_count": 7
        }
      ]
    },
    {
      "cell_type": "markdown",
      "metadata": {
        "id": "eEfwX2AmVl2u",
        "colab_type": "text"
      },
      "source": [
        "Let's now create a map for India to show the state-wise total confirmed cases of coronavirus. Using the latitude and longitude values (which are numeric values with decimal), we can create circular markers on a map. For this, you need to use the `folium_map_with_circles()` function which takes the following inputs:\n",
        "\n",
        "- Name of the person who is creating the map which should be a text value enclosed within single-quotes (`''`) or double-quotes (`\"\"`).\n",
        "\n",
        "- Name of the country for which a map needs to be created. It should be a text value enclosed within single-quotes (`''`) or double-quotes (`\"\"`). For the map only three values are supported:\n",
        "\n",
        "  1. `'India'`\n",
        "\n",
        "  2. `'US'`\n",
        "\n",
        "  3. `'World'`\n",
        "\n",
        "- Width of the map (numeric value).\n",
        "\n",
        "- Height of the map (numeric value).\n",
        "\n",
        "- Left margin for the map (numeric value).\n",
        "\n",
        "- Top margin for the map (numeric value).\n",
        "\n",
        "- The background style of the line plot which should be a text value enclosed within single-quotes (`''`) or double-quotes (`\"\"`). Here is the list of most commonly used background styles:\n",
        "\n",
        "  1. `'OpenStreetMap'`\n",
        "\n",
        "  2. `'Stamen Terrain'`\n",
        "\n",
        "  3. `'Stamen Toner'`\n",
        "\n",
        "- Initial zoom in value (a numeric value)\n",
        "\n",
        "- Colour of the circles on the map should be a text value enclosed within single-quotes (`''`) or double-quotes (`\"\"`). Here's the list of most commonly used colours:\n",
        "\n",
        "  1. `'red'`\n",
        "  \n",
        "  2. `'blue'` \n",
        "  \n",
        "  3. `'magenta'`\n",
        "\n",
        "  4. `'yellow'`\n",
        "\n",
        "  5. `'green'`\n",
        "\n",
        "- Whether you want the map to have a minimap or not; `True` for **yes** and `False` for **no**.\n"
      ]
    },
    {
      "cell_type": "code",
      "metadata": {
        "id": "JWAxL5giKQuB",
        "colab_type": "code",
        "colab": {
          "base_uri": "https://localhost:8080/",
          "height": 854
        },
        "outputId": "38d7ce17-be70-4e6b-a683-3314d5f148e4"
      },
      "source": [
        "# Student Action: Create a map for India to show the state-wise total confirmed cases of coronavirus.\n",
        "folium_map_with_circles('Dattu','India',1200,500,8,2,'OpenStreetMap',4,'blue',False)"
      ],
      "execution_count": null,
      "outputs": [
        {
          "output_type": "execute_result",
          "data": {
            "text/html": [
              "<div style=\"width:100%;\"><div style=\"position:relative;width:100%;height:0;padding-bottom:60%;\"><span style=\"color:#565656\">Make this Notebook Trusted to load map: File -> Trust Notebook</span><iframe src=\"about:blank\" style=\"position:absolute;width:100%;height:100%;left:0;top:0;border:none !important;\" data-html=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 onload=\"this.contentDocument.open();this.contentDocument.write(atob(this.getAttribute('data-html')));this.contentDocument.close();\" allowfullscreen webkitallowfullscreen mozallowfullscreen></iframe></div></div>"
            ],
            "text/plain": [
              "<folium.folium.Map at 0x7fd83eb9dfd0>"
            ]
          },
          "metadata": {
            "tags": []
          },
          "execution_count": 8
        }
      ]
    },
    {
      "cell_type": "markdown",
      "metadata": {
        "id": "Pcb7pRe5eeJJ",
        "colab_type": "text"
      },
      "source": [
        "**Note:** The `folium_map_with_circles()` function is NOT a standard Python function. It is a user-defined function created at WhiteHat Jr using Python to simplify the map creation process. You will learn to create your own user-defined function in the subsequent classes in this course.\n",
        "\n",
        "Let's export the above map as an HTML file. You can make it a web page like a website and share with your parents or friends. To do this, you need to use the `save()` function which is a standard Python function. The input to this function should be a path (or location) of the directory where you want to store the HTML file. Also, name the file as `index.html`. This is very important."
      ]
    },
    {
      "cell_type": "code",
      "metadata": {
        "id": "0Y1VFs1vWcL2",
        "colab_type": "code",
        "colab": {}
      },
      "source": [
        "# Student Action: Export the world map as an HTML file. \n",
        "india_map = folium_map_with_circles('Dattu','India',1200,500,8,2,'OpenStreetMap',4,'blue',False)\n",
        "india_map.save('/content/index.html')"
      ],
      "execution_count": null,
      "outputs": []
    },
    {
      "cell_type": "markdown",
      "metadata": {
        "id": "XQS9oIkAFw6u",
        "colab_type": "text"
      },
      "source": [
        "---"
      ]
    }
  ]
}